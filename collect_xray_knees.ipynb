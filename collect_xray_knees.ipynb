{
 "cells": [
  {
   "cell_type": "code",
   "execution_count": 1,
   "id": "5ca70aff-1290-4367-839e-8b84a0f0f76a",
   "metadata": {},
   "outputs": [],
   "source": [
    "import pandas as pd\n",
    "import os\n",
    "import pydicom\n",
    "import time"
   ]
  },
  {
   "cell_type": "code",
   "execution_count": 2,
   "id": "3527bd0d-14e8-4087-985e-ffe711ee397e",
   "metadata": {},
   "outputs": [],
   "source": [
    "# Define paths (same as in your original script)\n",
    "study = '/home/reza/oai-knee-classification/'\n",
    "data_raw = study + 'Data_Raw/'\n",
    "outinfo_path = data_raw + '/output_info/'\n",
    "output_base_path = \"~/oai-knee-classification/Data_Reduced/dicoms\"\n",
    "extraction_log_csv = os.path.expanduser(outinfo_path + 'extraction_log.csv')\n",
    "output_csv = os.path.expanduser(outinfo_path + 'dicom_file_list.csv')"
   ]
  },
  {
   "cell_type": "code",
   "execution_count": 3,
   "id": "9c54424e-98b0-48e2-b011-aecae8dbfb7c",
   "metadata": {},
   "outputs": [],
   "source": [
    "# Function to check if a file is a valid DICOM\n",
    "def is_dicom_file(filepath):\n",
    "    try:\n",
    "        pydicom.dcmread(filepath)\n",
    "        return True\n",
    "    except pydicom.errors.InvalidDicomError:\n",
    "        return False\n",
    "    except Exception as e:\n",
    "        print(f\"Error checking DICOM {filepath}: {str(e)}\")\n",
    "        return False"
   ]
  },
  {
   "cell_type": "code",
   "execution_count": 5,
   "id": "5a421347-88ac-483a-85cd-d024528e42b4",
   "metadata": {},
   "outputs": [
    {
     "name": "stdout",
     "output_type": "stream",
     "text": [
      "3459\n"
     ]
    }
   ],
   "source": [
    "# Start timing\n",
    "start_time = time.perf_counter()\n",
    "\n",
    "# Load extraction log\n",
    "extraction_df = pd.read_csv(extraction_log_csv)\n",
    "\n",
    "# Filter for successfully extracted knee DICOMs\n",
    "knee_df = extraction_df[extraction_df['is_knee'] == True]\n",
    "print( knee_df['src_subject_id'].nunique())\n",
    "\n",
    "# Initialize list to store DICOM file details\n",
    "dicom_files = []"
   ]
  },
  {
   "cell_type": "code",
   "execution_count": 6,
   "id": "630ef819-a994-4728-95f0-da2686cf37d2",
   "metadata": {},
   "outputs": [
    {
     "name": "stderr",
     "output_type": "stream",
     "text": [
      "/home/reza/oai-knee-classification/myenv/lib/python3.12/site-packages/pydicom/charset.py:727: UserWarning: Incorrect value for Specific Character Set 'ISO_2022_IR_6' - assuming 'ISO 2022 IR 6'\n",
      "  _warn_about_invalid_encoding(encoding, patched)\n"
     ]
    },
    {
     "name": "stdout",
     "output_type": "stream",
     "text": [
      "Listed 3670 DICOM files and saved to /home/reza/oai-knee-classification/Data_Raw//output_info/dicom_file_list.csv\n",
      "Runtime: 530.46 seconds (8.84 minutes)\n"
     ]
    }
   ],
   "source": [
    "# Process each extracted knee DICOM entry\n",
    "for _, row in knee_df.iterrows():\n",
    "    subject_id = row['src_subject_id']\n",
    "    date_folder = row['date_folder']\n",
    "    tar_file = row['tar_file']\n",
    "    extracted_path = os.path.expanduser(row['extracted_path'])\n",
    "\n",
    "    # Check if the extracted path exists\n",
    "    if not os.path.exists(extracted_path):\n",
    "        print(f\"Warning: Extracted path {extracted_path} does not exist\")\n",
    "        continue\n",
    "\n",
    "    # Walk through the extracted directory to find DICOM files\n",
    "    for root, _, files in os.walk(extracted_path):\n",
    "        for file_name in files:\n",
    "            file_path = os.path.join(root, file_name)\n",
    "            if is_dicom_file(file_path):\n",
    "                try:\n",
    "                    # Read DICOM metadata\n",
    "                    ds = pydicom.dcmread(file_path)\n",
    "                    dicom_files.append({\n",
    "                        'src_subject_id': subject_id,\n",
    "                        'date_folder': date_folder,\n",
    "                        'tar_file': tar_file,\n",
    "                        'dicom_path': file_path,\n",
    "                        'study_id': ds.get((0x0008, 0x0060), None).value if ds.get((0x0008, 0x0060), None) else None,\n",
    "                        'series_description': ds.get((0x0008, 0x103E), None).value if ds.get((0x0008, 0x103E), None) else None,\n",
    "                        'body_part_examined': ds.get((0x0018, 0x0015), None).value if ds.get((0x0018, 0x0015), None) else None\n",
    "                    })\n",
    "                except Exception as e:\n",
    "                    print(f\"Error reading DICOM {file_path}: {str(e)}\")\n",
    "                    dicom_files.append({\n",
    "                        'src_subject_id': subject_id,\n",
    "                        'date_folder': date_folder,\n",
    "                        'tar_file': tar_file,\n",
    "                        'dicom_path': file_path,\n",
    "                        'study_id': None,\n",
    "                        'series_description': None,\n",
    "                        'body_part_examined': None,\n",
    "                        'error': str(e)\n",
    "                    })\n",
    "\n",
    "# Create DataFrame and save to CSV\n",
    "output_df = pd.DataFrame(dicom_files)\n",
    "output_df.to_csv(output_csv, index=False)\n",
    "\n",
    "# Calculate and print runtime\n",
    "end_time = time.perf_counter()\n",
    "runtime_seconds = end_time - start_time\n",
    "runtime_minutes = runtime_seconds / 60\n",
    "print(f\"Listed {len(output_df)} DICOM files and saved to {output_csv}\")\n",
    "print(f\"Runtime: {runtime_seconds:.2f} seconds ({runtime_minutes:.2f} minutes)\")"
   ]
  },
  {
   "cell_type": "code",
   "execution_count": null,
   "id": "482b7e87-0d51-47dc-9dce-96d572516504",
   "metadata": {},
   "outputs": [],
   "source": []
  }
 ],
 "metadata": {
  "kernelspec": {
   "display_name": "Python 3 (ipykernel)",
   "language": "python",
   "name": "python3"
  },
  "language_info": {
   "codemirror_mode": {
    "name": "ipython",
    "version": 3
   },
   "file_extension": ".py",
   "mimetype": "text/x-python",
   "name": "python",
   "nbconvert_exporter": "python",
   "pygments_lexer": "ipython3",
   "version": "3.12.3"
  }
 },
 "nbformat": 4,
 "nbformat_minor": 5
}
