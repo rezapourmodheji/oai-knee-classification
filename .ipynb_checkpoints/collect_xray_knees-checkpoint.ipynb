{
 "cells": [
  {
   "cell_type": "code",
   "execution_count": 1,
   "id": "5ca70aff-1290-4367-839e-8b84a0f0f76a",
   "metadata": {},
   "outputs": [],
   "source": [
    "import pandas as pd\n",
    "import os\n",
    "import pydicom\n",
    "import time"
   ]
  },
  {
   "cell_type": "code",
   "execution_count": 2,
   "id": "3527bd0d-14e8-4087-985e-ffe711ee397e",
   "metadata": {},
   "outputs": [],
   "source": [
    "# Define paths (same as in your original script)\n",
    "study = '/home/reza/oai-knee-classification/'\n",
    "data_raw = study + 'Data_Raw/'\n",
    "outinfo_path = data_raw + '/output_info/'\n",
    "output_base_path = \"~/oai-knee-classification/Data_Reduced/dicoms\"\n",
    "extraction_log_csv = os.path.expanduser(outinfo_path + 'extraction_log.csv')\n",
    "output_csv = os.path.expanduser(outinfo_path + 'dicom_file_list.csv')"
   ]
  },
  {
   "cell_type": "code",
   "execution_count": 3,
   "id": "9c54424e-98b0-48e2-b011-aecae8dbfb7c",
   "metadata": {},
   "outputs": [],
   "source": [
    "# Function to check if a file is a valid DICOM\n",
    "def is_dicom_file(filepath):\n",
    "    try:\n",
    "        pydicom.dcmread(filepath)\n",
    "        return True\n",
    "    except pydicom.errors.InvalidDicomError:\n",
    "        return False\n",
    "    except Exception as e:\n",
    "        print(f\"Error checking DICOM {filepath}: {str(e)}\")\n",
    "        return False"
   ]
  },
  {
   "cell_type": "code",
   "execution_count": 4,
   "id": "5a421347-88ac-483a-85cd-d024528e42b4",
   "metadata": {},
   "outputs": [],
   "source": [
    "# Start timing\n",
    "start_time = time.perf_counter()\n",
    "\n",
    "# Load extraction log\n",
    "extraction_df = pd.read_csv(extraction_log_csv)\n",
    "\n",
    "# Filter for successfully extracted knee DICOMs\n",
    "knee_df = extraction_df[extraction_df['is_knee'] == True]\n",
    "print( knee_df['src_subject_id'].nunique())\n",
    "\n",
    "# Initialize list to store DICOM file details\n",
    "dicom_files = []"
   ]
  },
  {
   "cell_type": "code",
   "execution_count": null,
   "id": "630ef819-a994-4728-95f0-da2686cf37d2",
   "metadata": {},
   "outputs": [],
   "source": []
  }
 ],
 "metadata": {
  "kernelspec": {
   "display_name": "Python 3 (ipykernel)",
   "language": "python",
   "name": "python3"
  },
  "language_info": {
   "codemirror_mode": {
    "name": "ipython",
    "version": 3
   },
   "file_extension": ".py",
   "mimetype": "text/x-python",
   "name": "python",
   "nbconvert_exporter": "python",
   "pygments_lexer": "ipython3",
   "version": "3.12.3"
  }
 },
 "nbformat": 4,
 "nbformat_minor": 5
}
