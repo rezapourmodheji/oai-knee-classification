{
 "cells": [
  {
   "cell_type": "code",
   "execution_count": 1,
   "id": "2c2ccf3a-2a6a-4f86-bfba-a9c8e7ad5620",
   "metadata": {},
   "outputs": [],
   "source": [
    "import pandas as pd\n",
    "import os\n",
    "import tarfile\n",
    "import re\n",
    "import pydicom\n",
    "import numpy as np\n",
    "from PIL import Image\n",
    "import torch\n",
    "import torchvision.models as models\n",
    "import torchvision.transforms as transforms"
   ]
  },
  {
   "cell_type": "code",
   "execution_count": 2,
   "id": "6fbd7c1f-607c-4529-bcf5-fc814b03f9c4",
   "metadata": {},
   "outputs": [],
   "source": [
    "# Define paths\n",
    "study = '/home/reza/oai-knee-classification/'\n",
    "data_raw = study + 'Data_Raw/'\n",
    "base_image_path = data_raw + 'images/00m/'\n",
    "outinfo_path = data_raw + '/output_info/'\n",
    "scores_path = data_raw + '/scores/'\n",
    "baseimage_folders = ['0.C.2','0.E.1']"
   ]
  },
  {
   "cell_type": "code",
   "execution_count": 3,
   "id": "452bedaa-8abc-44bb-9a23-dd43f19e624b",
   "metadata": {},
   "outputs": [
    {
     "name": "stdout",
     "output_type": "stream",
     "text": [
      "4796\n"
     ]
    }
   ],
   "source": [
    "mapping_csv = outinfo_path + 'subject_folder_mapping.csv'\n",
    "output_base_path = \"~/oai-knee-classification/Data_Processed/dicoms\"\n",
    "\n",
    "# Load mapping CSV\n",
    "mapping_df = pd.read_csv(os.path.expanduser(mapping_csv))\n",
    "\n",
    "# Filter valid subject folders with date folders\n",
    "valid_df = mapping_df[mapping_df['date_folders'] != 'No date folders found']\n",
    "print( valid_df['src_subject_id'].nunique())\n",
    "subset_df = valid_df.iloc[1:11]\n"
   ]
  },
  {
   "cell_type": "code",
   "execution_count": 4,
   "id": "90a6a438-29c6-4bcd-a8e6-f71302600ffd",
   "metadata": {},
   "outputs": [],
   "source": [
    "# Initialize results\n",
    "extracted_files = []"
   ]
  },
  {
   "cell_type": "code",
   "execution_count": 9,
   "id": "9e028d72-bcdd-4031-bf6a-dd9408772057",
   "metadata": {},
   "outputs": [],
   "source": [
    "# Function to identify knee .jpg files (placeholder)\n",
    "def is_knee_jpg(file_name, src_folder):\n",
    "    # Placeholder: Assume .jpg is a knee image for now\n",
    "    # Replace with actual logic (e.g., classifier or manual labels)\n",
    "    # For example, check if file_name ends with '_1x1.jpg' or '_2x2.jpg'\n",
    "    return file_name.lower().endswith(('_1x1.jpg', '_2x2.jpg'))"
   ]
  },
  {
   "cell_type": "code",
   "execution_count": 10,
   "id": "3e7472ce-60b7-4649-96ca-2fdb80bd5b1b",
   "metadata": {},
   "outputs": [
    {
     "name": "stdout",
     "output_type": "stream",
     "text": [
      "['00007104_1x1.jpg']\n",
      "['10000204_2x2.jpg', '10000208_2x2.jpg', '10000210_2x2.jpg', '10000211_2x2.jpg', '00020604_1x1.jpg', '10000209_2x2.jpg', '10000212_2x2.jpg', '10000206_2x2.jpg', '10000207_2x2.jpg', '00020704_1x1.jpg', '10000203_2x2.jpg', '10000205_2x2.jpg', '10000201_2x2.jpg', '10000213_2x2.jpg', '10000202_2x2.jpg', '10000214_2x2.jpg']\n",
      "['00000104_1x1.jpg']\n",
      "['10000314_2x2.jpg', '10000302_2x2.jpg', '10000305_2x2.jpg', '10000307_2x2.jpg', '10000313_2x2.jpg', '10000306_2x2.jpg', '10000303_2x2.jpg', '10000304_2x2.jpg', '10000309_2x2.jpg', '10000310_2x2.jpg', '10000301_2x2.jpg', '00002705_1x1.jpg', '00002704_1x1.jpg', '10000311_2x2.jpg', '10000312_2x2.jpg', '10000308_2x2.jpg']\n",
      "['00007404_1x1.jpg']\n",
      "['10000409_2x2.jpg', '10000406_2x2.jpg', '10000402_2x2.jpg', '10000412_2x2.jpg', '10000410_2x2.jpg', '10000403_2x2.jpg', '10000405_2x2.jpg', '10000414_2x2.jpg', '10000408_2x2.jpg', '10000407_2x2.jpg', '10000401_2x2.jpg', '10000404_2x2.jpg', '10000413_2x2.jpg', '10000411_2x2.jpg', '10000415_2x2.jpg']\n",
      "['00020304_1x1.jpg', '00020104_1x1.jpg']\n",
      "['00007204_1x1.jpg']\n",
      "['10000010_2x2.jpg', '10000006_2x2.jpg', '10000009_2x2.jpg', '10000014_2x2.jpg', '10000013_2x2.jpg', '10000008_2x2.jpg', '10000011_2x2.jpg', '10000012_2x2.jpg', '10000004_2x2.jpg', '00005404_1x1.jpg', '10000001_2x2.jpg', '10000005_2x2.jpg', '10000002_2x2.jpg', '10000003_2x2.jpg', '10000007_2x2.jpg', '00005405_1x1.jpg']\n",
      "['00007704_1x1.jpg']\n",
      "['10000612_2x2.jpg', '10000605_2x2.jpg', '10000610_2x2.jpg', '00020404_1x1.jpg', '10000611_2x2.jpg', '10000606_2x2.jpg', '10000602_2x2.jpg', '10000613_2x2.jpg', '10000608_2x2.jpg', '10000601_2x2.jpg', '10000607_2x2.jpg', '10000603_2x2.jpg', '10000609_2x2.jpg', '10000614_2x2.jpg', '00020504_1x1.jpg', '10000604_2x2.jpg']\n",
      "['00000204_1x1.jpg']\n",
      "['10004910_2x2.jpg', '00004005_1x1.jpg', '10004905_2x2.jpg', '10004913_2x2.jpg', '10004914_2x2.jpg', '10004911_2x2.jpg', '10004908_2x2.jpg', '10004902_2x2.jpg', '10004912_2x2.jpg', '10004909_2x2.jpg', '10004907_2x2.jpg', '10004904_2x2.jpg', '10004903_2x2.jpg', '10004901_2x2.jpg', '00004004_1x1.jpg', '10004906_2x2.jpg']\n",
      "['00009604_1x1.jpg']\n",
      "['10003341_2x2.jpg', '10003330_2x2.jpg', '10003340_2x2.jpg', '10003333_2x2.jpg', '10003338_2x2.jpg', '10003332_2x2.jpg', '10003337_2x2.jpg', '10003329_2x2.jpg', '10003336_2x2.jpg', '10003342_2x2.jpg', '10003335_2x2.jpg', '10003339_2x2.jpg', '10003331_2x2.jpg', '10003334_2x2.jpg']\n",
      "['00009004_1x1.jpg']\n",
      "['10002713_2x2.jpg', '10002703_2x2.jpg', '10002701_2x2.jpg', '10002704_2x2.jpg', '10002710_2x2.jpg', '10002707_2x2.jpg', '10002714_2x2.jpg', '10002711_2x2.jpg', '10002708_2x2.jpg', '00006205_1x1.jpg', '10002705_2x2.jpg', '10002706_2x2.jpg', '10002709_2x2.jpg', '10002702_2x2.jpg', '10002712_2x2.jpg', '00006204_1x1.jpg']\n",
      "['00007604_1x1.jpg']\n",
      "['10002112_2x2.jpg', '00006004_1x1.jpg', '10002109_2x2.jpg', '10002107_2x2.jpg', '10002108_2x2.jpg', '10002106_2x2.jpg', '10002114_2x2.jpg', '10751801_2x2.jpg', '10002105_2x2.jpg', '10002110_2x2.jpg', '10002102_2x2.jpg', '10002113_2x2.jpg', '10002101_2x2.jpg', '10002104_2x2.jpg', '10002103_2x2.jpg', '00006005_1x1.jpg']\n",
      "['00010304_1x1.jpg']\n",
      "['10002505_2x2.jpg', '10002508_2x2.jpg', '10002503_2x2.jpg', '10002501_2x2.jpg', '10002510_2x2.jpg', '10002511_2x2.jpg', '10002513_2x2.jpg', '10002507_2x2.jpg', '10002514_2x2.jpg', '10002506_2x2.jpg', '10319801_2x2.jpg', '10002502_2x2.jpg', '10002512_2x2.jpg', '10002509_2x2.jpg', '00005604_1x1.jpg', '00005605_1x1.jpg']\n"
     ]
    }
   ],
   "source": [
    "# Process each subject\n",
    "for _, row in subset_df.iterrows():\n",
    "    subject_id = str(row['src_subject_id']).strip()\n",
    "    subject_folder_path = row['subject_folder_path']\n",
    "    date_folders = row['date_folders'].split(',')\n",
    "\n",
    "    for date_folder in date_folders:\n",
    "        if not re.match(r'^\\d{8}$', date_folder):\n",
    "            continue  # Skip invalid dates\n",
    "\n",
    "        # Source folder\n",
    "        src_folder = os.path.join(subject_folder_path, date_folder)\n",
    "        if not os.path.exists(src_folder):\n",
    "            continue\n",
    "\n",
    "        # Find .jpg files that are likely knee images\n",
    "        jpg_files = [f for f in os.listdir(src_folder) if is_knee_jpg(f, src_folder)]\n",
    "\n",
    "        \n",
    "        \n",
    "        # for jpg_file in jpg_files:\n",
    "        #     # Derive corresponding .tar.gz name (remove _1x1 or _2x2)\n",
    "        #     base_name = re.sub(r'(_1x1|_2x2|)\\.jpg$', '', jpg_file, flags=re.IGNORECASE)\n",
    "        #     tar_file = f\"{base_name}.tar.gz\"\n",
    "        #     tar_path = os.path.join(src_folder, tar_file)\n",
    "\n",
    "        #     if not os.path.exists(tar_path):\n",
    "        #         extracted_files.append({\n",
    "        #             'src_subject_id': subject_id,\n",
    "        #             'date_folder': date_folder,\n",
    "        #             'jpg_file': jpg_file,\n",
    "        #             'tar_file': tar_file,\n",
    "        #             'extracted_path': 'No matching .tar.gz found',\n",
    "        #             'is_knee': False\n",
    "        #         })\n",
    "        #         continue\n",
    "                \n",
    "        #     # Output folder\n",
    "        #     out_folder = os.path.expanduser(\n",
    "        #         f\"{output_base_path}/{subject_id}/{date_folder}/{base_name}\"\n",
    "        #     )\n",
    "        #     os.makedirs(out_folder, exist_ok=True)\n",
    "\n",
    "        #     # Extract .tar.gz\n",
    "        #     try:\n",
    "        #         with tarfile.open(tar_path, 'r:gz') as tar:\n",
    "        #             tar.extractall(path=out_folder)\n",
    "        #         extracted_files.append({\n",
    "        #             'src_subject_id': subject_id,\n",
    "        #             'date_folder': date_folder,\n",
    "        #             'jpg_file': jpg_file,\n",
    "        #             'tar_file': tar_file,\n",
    "        #             'extracted_path': out_folder,\n",
    "        #             'is_knee': True  # Based on .jpg being identified as knee\n",
    "        #         })\n",
    "        #         print(f\"Extracted knee DICOMs for {subject_id}/{date_folder}/{tar_file} based on {jpg_file}\")\n",
    "        #     except Exception as e:\n",
    "        #         extracted_files.append({\n",
    "        #             'src_subject_id': subject_id,\n",
    "        #             'date_folder': date_folder,\n",
    "        #             'jpg_file': jpg_file,\n",
    "        #             'tar_file': tar_file,\n",
    "        #             'extracted_path': f\"Error: {str(e)}\",\n",
    "        #             'is_knee': False\n",
    "        #         })\n",
    "        #         # Clean up if extraction fails\n",
    "        #         if os.path.exists(out_folder):\n",
    "        #             for root, dirs, files in os.walk(out_folder, topdown=False):\n",
    "        #                 for name in files:\n",
    "        #                     os.remove(os.path.join(root, name))\n",
    "        #                 for name in dirs:\n",
    "        #                     os.rmdir(os.path.join(root, name))\n",
    "        #             os.rmdir(out_folder)"
   ]
  },
  {
   "cell_type": "code",
   "execution_count": null,
   "id": "b7d9e4be-0eb9-4eb1-980c-72ae946124b9",
   "metadata": {},
   "outputs": [],
   "source": []
  },
  {
   "cell_type": "code",
   "execution_count": null,
   "id": "d533ea92-be61-494e-b064-551a92b32c72",
   "metadata": {},
   "outputs": [],
   "source": []
  }
 ],
 "metadata": {
  "kernelspec": {
   "display_name": "Python 3 (ipykernel)",
   "language": "python",
   "name": "python3"
  },
  "language_info": {
   "codemirror_mode": {
    "name": "ipython",
    "version": 3
   },
   "file_extension": ".py",
   "mimetype": "text/x-python",
   "name": "python",
   "nbconvert_exporter": "python",
   "pygments_lexer": "ipython3",
   "version": "3.12.3"
  }
 },
 "nbformat": 4,
 "nbformat_minor": 5
}
