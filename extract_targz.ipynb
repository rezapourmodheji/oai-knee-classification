{
 "cells": [
  {
   "cell_type": "code",
   "execution_count": 1,
   "id": "2c2ccf3a-2a6a-4f86-bfba-a9c8e7ad5620",
   "metadata": {},
   "outputs": [],
   "source": [
    "import pandas as pd\n",
    "import os\n",
    "import tarfile\n",
    "import re\n",
    "import pydicom  # Ensure pydicom is installed: pip install pydicom"
   ]
  },
  {
   "cell_type": "code",
   "execution_count": 2,
   "id": "6fbd7c1f-607c-4529-bcf5-fc814b03f9c4",
   "metadata": {},
   "outputs": [],
   "source": [
    "# Define paths\n",
    "study = '/home/reza/oai-knee-classification/'\n",
    "data_raw = study + 'Data_Raw/'\n",
    "base_image_path = data_raw + 'images/00m/'\n",
    "outinfo_path = data_raw + '/output_info/'\n",
    "scores_path = data_raw + '/scores/'\n",
    "baseimage_folders = ['0.C.2','0.E.1']"
   ]
  },
  {
   "cell_type": "code",
   "execution_count": 10,
   "id": "452bedaa-8abc-44bb-9a23-dd43f19e624b",
   "metadata": {},
   "outputs": [
    {
     "name": "stdout",
     "output_type": "stream",
     "text": [
      "4796\n"
     ]
    }
   ],
   "source": [
    "mapping_csv = outinfo_path + 'subject_folder_mapping.csv'\n",
    "output_base_path = \"~/oai-knee-classification/Data_Processed/dicoms\"\n",
    "\n",
    "# Load mapping CSV\n",
    "mapping_df = pd.read_csv(os.path.expanduser(mapping_csv))\n",
    "\n",
    "# Filter valid subject folders with date folders\n",
    "valid_df = mapping_df[mapping_df['date_folders'] != 'No date folders found']\n",
    "print( valid_df['src_subject_id'].nunique())\n",
    "subset_df = valid_df.iloc[1:11]\n"
   ]
  },
  {
   "cell_type": "code",
   "execution_count": null,
   "id": "90a6a438-29c6-4bcd-a8e6-f71302600ffd",
   "metadata": {},
   "outputs": [],
   "source": [
    "# Initialize results\n",
    "extracted_files = []"
   ]
  }
 ],
 "metadata": {
  "kernelspec": {
   "display_name": "Python 3 (ipykernel)",
   "language": "python",
   "name": "python3"
  },
  "language_info": {
   "codemirror_mode": {
    "name": "ipython",
    "version": 3
   },
   "file_extension": ".py",
   "mimetype": "text/x-python",
   "name": "python",
   "nbconvert_exporter": "python",
   "pygments_lexer": "ipython3",
   "version": "3.12.3"
  }
 },
 "nbformat": 4,
 "nbformat_minor": 5
}
